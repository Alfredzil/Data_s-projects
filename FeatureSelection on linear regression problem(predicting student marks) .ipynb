{
 "cells": [
  {
   "cell_type": "code",
   "execution_count": 3,
   "metadata": {},
   "outputs": [
    {
     "data": {
      "text/plain": [
       "(array([1.41905913e+02, 4.57019756e+00, 1.44882087e-03, 1.59990513e-01,\n",
       "        3.16606568e-03, 4.04208927e-01]),\n",
       " array([1.77038466e-12, 4.14028344e-02, 9.69907241e-01, 6.92200477e-01,\n",
       "        9.55528076e-01, 5.30086171e-01]))"
      ]
     },
     "execution_count": 3,
     "metadata": {},
     "output_type": "execute_result"
    }
   ],
   "source": [
    "# --------------------------------------------------------------\n",
    "# Apply Feature Selection with F-Test on Linear Regression\n",
    "# Compare the result with selected features\n",
    "# --------------------------------------------------------------\n",
    "\n",
    "\n",
    "# Import Pandas for data processing\n",
    "import pandas as pd\n",
    "\n",
    "\n",
    "# Read the CSV file\n",
    "f = pd.read_csv('Students2.csv')\n",
    "#df = dataset.copy()\n",
    "\n",
    "# Split into X (Independent) features and Y (predicted)\n",
    "x = f.iloc[:, :-1]\n",
    "y = f.iloc[:,  -1]\n",
    "\n",
    "# Train the Simple Linear Regression\n",
    "from sklearn.linear_model import LinearRegression\n",
    "lr = LinearRegression()\n",
    "\n",
    "# Create the Training and Test datasets\n",
    "from sklearn.model_selection import train_test_split\n",
    "X_train, X_test, Y_train, Y_test =     \\\n",
    "train_test_split (x, y, test_size = 0.4, random_state=1234)\n",
    "\n",
    "# Fit the data and predict Y\n",
    "lr.fit(X_train, Y_train)\n",
    "y_predict = lr.predict(X_test)\n",
    "\n",
    "# Calculate the RMSE error for the regression\n",
    "from sklearn.metrics import mean_squared_error\n",
    "import math\n",
    "\n",
    "rmse = math.sqrt(mean_squared_error(Y_test,y_predict))\n",
    "# Import f_regression from sklearn\n",
    "from sklearn.feature_selection import f_regression as fr\n",
    "fr(x,y) # f_regression has been printed as a tuple\n",
    "\n",
    "# Coefficient and Intercept\n",
    "#slr_coefficient = std_reg.coef_\n",
    "#slr_intercept = std_reg.intercept_\n",
    "\n",
    "# Equation of the line\n",
    "#   y = 34.27 + 5.02 * X\n",
    "\n",
    "# plot the result using matplotlib \n",
    "#import matplotlib.pyplot as plt\n",
    "\n",
    "#plt.scatter(x_test, y_test)\n",
    "#plt.plot(x_test, y_predict)\n",
    "#plt.ylim(ymin=0)\n",
    "#plt.show()\n"
   ]
  },
  {
   "cell_type": "code",
   "execution_count": 7,
   "metadata": {},
   "outputs": [
    {
     "name": "stdout",
     "output_type": "stream",
     "text": [
      " \n",
      " \n",
      " \n",
      "   Features    F-Score    p_values\n",
      "   ---------   ----------  ----------\n",
      "    Hours          141.91     0.000000\n",
      "    sHours           4.57     0.041403\n",
      "    hoursplayed      0.00     0.969907\n",
      "    income           0.16     0.692200\n",
      "    distance         0.00     0.955528\n",
      "    calories         0.40     0.530086\n"
     ]
    }
   ],
   "source": [
    "result = fr(x,y) # a tuple of 2 arrays, one for the features and the other for the p-values\n",
    "\n",
    "f_score = result[0]\n",
    "p_values = result[1]\n",
    "\n",
    "columns = list(x.columns)\n",
    "\n",
    "print (\" \")\n",
    "print (\" \")\n",
    "print (\" \")\n",
    "\n",
    "print (\"   Features   \", \"F-Score   \", \"p_values\")\n",
    "\n",
    "print (\"   ---------   ----------  ----------\")\n",
    "\n",
    "for i in range(0,len(columns)):\n",
    "    f1 = \"%4.2f\" % f_score[i]\n",
    "    p1 = \"%2.6f\" % p_values[i]\n",
    "    print(\"   \", columns[i].ljust(12), f1.rjust(8),\"   \", p1.rjust(8))\n",
    "\n",
    "\n"
   ]
  },
  {
   "cell_type": "markdown",
   "metadata": {},
   "source": [
    "Will dropping the features with higher p-values than the 0.05 significance level habe an impact or not\n",
    "Perform the linear Regression with reduced features."
   ]
  },
  {
   "cell_type": "code",
   "execution_count": 15,
   "metadata": {},
   "outputs": [
    {
     "data": {
      "text/plain": [
       "5.09721728108113"
      ]
     },
     "execution_count": 15,
     "metadata": {},
     "output_type": "execute_result"
    }
   ],
   "source": [
    "X_train_n = X_train[['Hours','sHours']]\n",
    "X_test_n = X_test[['Hours','sHours']]\n",
    "\n",
    "# Fit the data and predict Y for the new model\n",
    "\n",
    "lr1 = LinearRegression()\n",
    "lr1.fit(X_train_n, Y_train)\n",
    "\n",
    "# predict the new Y\n",
    "\n",
    "y_predict_n = lr1.predict(X_test_n)\n",
    "\n",
    "# Calculate the RMSE error with reduced features\n",
    "\n",
    "rmse_n = math.sqrt(mean_squared_error(Y_test,y_predict_n))\n",
    "rmse_n # this results in smaller error and thus feature selection has improved model. It will also take less time to run"
   ]
  },
  {
   "cell_type": "markdown",
   "metadata": {},
   "source": [
    "-----------------\n",
    "Implement various feature selections using select Transforms\n",
    "--------------------------------------------------------------------------------------"
   ]
  },
  {
   "cell_type": "code",
   "execution_count": 3,
   "metadata": {},
   "outputs": [
    {
     "name": "stdout",
     "output_type": "stream",
     "text": [
      " \n",
      " \n",
      " \n",
      "   Features    F-Score    p_values\n",
      "   ---------   ----------  ----------\n",
      "    Hours          141.91     0.000000\n",
      "    sHours           4.57     0.041403\n",
      "    hoursplayed      0.00     0.969907\n",
      "    income           0.16     0.692200\n",
      "    distance         0.00     0.955528\n",
      "    calories         0.40     0.530086\n"
     ]
    }
   ],
   "source": [
    "# Import Pandas for data processing\n",
    "import pandas as pd\n",
    "\n",
    "\n",
    "# Read and split file into X and Y\n",
    "f = pd.read_csv('Students2.csv')\n",
    "\n",
    "# Split into X (Independent) features and Y (predicted)\n",
    "X = f.iloc[:, :-1]\n",
    "Y = f.iloc[:,  -1]\n",
    "\n",
    "# Import various select transforms along with the f_regression mode\n",
    "\n",
    "from sklearn.feature_selection import SelectKBest,\\\n",
    "                                 SelectPercentile, \\\n",
    "                                GenericUnivariateSelect,\\\n",
    "                                f_regression\n",
    "selectorK = SelectKBest(score_func=f_regression, k=3)\n",
    "X_k =  selectorK.fit_transform(X,Y)\n",
    "\n",
    "# Get the f_score and p_values\n",
    "\n",
    "f_score = selectorK.scores_\n",
    "p_values = selectorK.pvalues_\n",
    "\n",
    "# Print column names with fscore and pvalues\n",
    "# Print the table of features, F-score and P-values\n",
    "columns = list(X.columns)\n",
    "\n",
    "print (\" \")\n",
    "print (\" \")\n",
    "print (\" \")\n",
    "\n",
    "print (\"   Features   \", \"F-Score   \", \"p_values\")\n",
    "\n",
    "print (\"   ---------   ----------  ----------\")\n",
    "\n",
    "for i in range(0,len(columns)):\n",
    "    f1 = \"%4.2f\" % f_score[i]\n",
    "    p1 = \"%2.6f\" % p_values[i]\n",
    "    print(\"   \", columns[i].ljust(12), f1.rjust(8),\"   \", p1.rjust(8))\n",
    "\n",
    "\n"
   ]
  },
  {
   "cell_type": "markdown",
   "metadata": {},
   "source": [
    "------------------\n",
    "What if we have more than a thousand features, how do we handle this\n"
   ]
  },
  {
   "cell_type": "code",
   "execution_count": 22,
   "metadata": {},
   "outputs": [
    {
     "name": "stdout",
     "output_type": "stream",
     "text": [
      "['Hours', 'sHours', 'calories']\n"
     ]
    }
   ],
   "source": [
    "# so lets get the column names for the features that have been selected\n",
    "\n",
    "cols = selectorK.get_support(indices=True)# original list of indices of input features\n",
    "selected_cols = X.columns[cols].tolist()\n",
    "print(selected_cols) "
   ]
  },
  {
   "cell_type": "code",
   "execution_count": 5,
   "metadata": {},
   "outputs": [],
   "source": [
    "\n",
    "# SelectPercentile\n",
    "selectorP = SelectPercentile(score_func=f_regression, percentile=50)\n",
    "X_p = selectorP.fit_transform(X,Y)\n",
    "\n",
    "# every thing is now the same as above."
   ]
  },
  {
   "cell_type": "markdown",
   "metadata": {},
   "source": [
    "__________________________\n",
    "Generic Univariate Selector"
   ]
  },
  {
   "cell_type": "code",
   "execution_count": 7,
   "metadata": {},
   "outputs": [],
   "source": [
    "# Implement GenericUnivariateSelect transform\n",
    "selectorG1 = GenericUnivariateSelect(score_func=f_regression,mode='k_best',param = 3)\n",
    "X_g1 = selectorG1.fit_transform(X,Y)\n",
    "\n",
    "selectorG2 = GenericUnivariateSelect(score_func=f_regression,mode='percentile',param = 50)\n",
    "X_g2 = selectorG1.fit_transform(X,Y)   "
   ]
  }
 ],
 "metadata": {
  "kernelspec": {
   "display_name": "Python 3",
   "language": "python",
   "name": "python3"
  },
  "language_info": {
   "codemirror_mode": {
    "name": "ipython",
    "version": 3
   },
   "file_extension": ".py",
   "mimetype": "text/x-python",
   "name": "python",
   "nbconvert_exporter": "python",
   "pygments_lexer": "ipython3",
   "version": "3.8.3"
  }
 },
 "nbformat": 4,
 "nbformat_minor": 4
}
