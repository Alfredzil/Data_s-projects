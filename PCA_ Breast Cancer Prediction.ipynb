{
 "cells": [
  {
   "cell_type": "code",
   "execution_count": 14,
   "metadata": {},
   "outputs": [
    {
     "name": "stderr",
     "output_type": "stream",
     "text": [
      "<ipython-input-14-602bfe781560>:23: DataConversionWarning: A column-vector y was passed when a 1d array was expected. Please change the shape of y to (n_samples,), for example using ravel().\n",
      "  rfc1.fit(X_train, Y_train)\n"
     ]
    }
   ],
   "source": [
    "# Implement Principal Component Analysis (PCA)\n",
    "# for the Breast Cancer prediction and compare results\n",
    "\n",
    "# Import libraries, load the dataset and creat X and Y variables\n",
    "from sklearn.datasets import load_breast_cancer\n",
    "import pandas as pd\n",
    "\n",
    "lbc = load_breast_cancer()# a dictionar of 6 elements\n",
    "X = pd.DataFrame(lbc['data'], columns=lbc['feature_names'])# 2nd step isto give column names to the dataset X\n",
    "Y = pd.DataFrame(lbc['target'], columns=['type'])\n",
    "\n",
    "# Perform the prediction without PCA\n",
    "\n",
    "from sklearn.model_selection import train_test_split\n",
    "X_train, X_test, Y_train, Y_test = \\\n",
    "train_test_split(X, Y, test_size = 0.3, random_state = 1234, stratify=Y)\n",
    "\n",
    "# Import Randon Forest Classifier\n",
    "from sklearn.ensemble import RandomForestClassifier \n",
    "\n",
    "# Default Random Forest Object\n",
    "rfc1 = RandomForestClassifier(random_state=1234)\n",
    "rfc1.fit(X_train, Y_train)\n",
    "Y_predict1 = rfc1.predict(X_test)\n",
    "\n",
    "# Score and Evaluate the model \n",
    "from sklearn.metrics import confusion_matrix\n",
    "cm1 = confusion_matrix(Y_test, Y_predict1)\n",
    "score1 = rfc1.score(X_test, Y_test)\n"
   ]
  },
  {
   "cell_type": "code",
   "execution_count": 13,
   "metadata": {},
   "outputs": [
    {
     "name": "stderr",
     "output_type": "stream",
     "text": [
      "<ipython-input-13-d7c25ea87b31>:20: DataConversionWarning: A column-vector y was passed when a 1d array was expected. Please change the shape of y to (n_samples,), for example using ravel().\n",
      "  rfc2.fit(X_train, Y_train)\n"
     ]
    },
    {
     "data": {
      "text/plain": [
       "array([[ 60,   4],\n",
       "       [  1, 106]], dtype=int64)"
      ]
     },
     "execution_count": 13,
     "metadata": {},
     "output_type": "execute_result"
    }
   ],
   "source": [
    "# perform PCA and Compare results\n",
    "# center the Data\n",
    "from sklearn.preprocessing import StandardScaler\n",
    "scaler = StandardScaler()\n",
    "x_scaled = scaler.fit_transform(X)# scaled data with mean = 0\n",
    "x_scaled[:,0].mean()# = -3.153111437248248e-15\n",
    "\n",
    "# import PCA \n",
    "from sklearn.decomposition import PCA\n",
    "pca = PCA(n_components=5)\n",
    "X_pca = pca.fit_transform(x_scaled)# our 30 features have beeen converted to 5 features with all of them projected on these \n",
    "# 5 axes (5 reduced dimensions)\n",
    "\n",
    "# split data into train and test\n",
    "X_train, X_test, Y_train, Y_test = \\\n",
    "train_test_split(X_pca, Y, test_size = 0.3, random_state = 1234, stratify=Y)\n",
    "\n",
    "# Default Random Forest Object\n",
    "rfc2 = RandomForestClassifier(random_state=1234)\n",
    "rfc2.fit(X_train, Y_train)\n",
    "Y_predict2 = rfc2.predict(X_test)\n",
    "\n",
    "# Score and Evaluate the model \n",
    "from sklearn.metrics import confusion_matrix\n",
    "cm2 = confusion_matrix(Y_test, Y_predict2)\n",
    "score2 = rfc2.score(X_test, Y_test)\n",
    "cm2"
   ]
  }
 ],
 "metadata": {
  "kernelspec": {
   "display_name": "Python 3",
   "language": "python",
   "name": "python3"
  },
  "language_info": {
   "codemirror_mode": {
    "name": "ipython",
    "version": 3
   },
   "file_extension": ".py",
   "mimetype": "text/x-python",
   "name": "python",
   "nbconvert_exporter": "python",
   "pygments_lexer": "ipython3",
   "version": "3.8.3"
  }
 },
 "nbformat": 4,
 "nbformat_minor": 4
}
