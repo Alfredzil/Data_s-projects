{
 "cells": [
  {
   "cell_type": "markdown",
   "metadata": {},
   "source": [
    "Neural Network Using Keras"
   ]
  },
  {
   "cell_type": "code",
   "execution_count": null,
   "metadata": {},
   "outputs": [],
   "source": [
    "# Neural Network\n",
    "import pandas as pd\n",
    "from keras.models import Sequential\n",
    "from keras.layer import Dense\n",
    "\n",
    "# Read the dataset\n",
    "diabetes = pd.read_csv('pimadiabetes.csv')\n",
    "diabetes.isnull().sum(axis=0)\n",
    "\n",
    "# create X and Y data set\n",
    "X = diabetes.iloc[:,0:-1]\n",
    "Y = diabetes.iloc[:, -1]\n",
    "\n",
    "# split the rows\n",
    "\n",
    "from sklearn.model_selection import train_test_split\n",
    "X_train, X_test, Y_train, Y_test = \\\n",
    "train_test_split(X, Y, test_size = 0.2, random_state = 1234, stratify=Y)\n",
    "\n",
    "# Define the keras model\n",
    "model = Sequential()\n",
    "# Now we add the layers to the above model\n",
    "model.add(Dense(24,\n",
    "               activation='relu',\n",
    "               kernel_initializer='RandomNormal'))\n",
    "# middle layer\n",
    "model.add(Dense(12,\n",
    "               input_shape=(8,),\n",
    "               activation='relu',\n",
    "               kernel_initializer='RandomNormal'))\n",
    "# output Neuron\n",
    "model.add(Dense(1,\n",
    "               activation='sigmoid',))\n",
    "\n",
    "# compile the model\n",
    "model.compile(optimizer='adam',\n",
    "             loss='binary_crossentropy',\n",
    "             metrics=['accuracy'])\n",
    "# run the model\n",
    "model.fit(X_train, Y_train, epochs=160, batch_size=10)\n",
    "\n",
    "# Get the accuracy score to evaluate the model\n",
    "accuracy_test = model.evaluate(X_test, Y_test)\n",
    "\n",
    "# Get the predicted values and predicted probabilities of Y_test\n",
    "Y_predict = model.predict_classes(X_test)\n",
    "Y_pred_prob = model.predict(X_test)\n",
    "\n",
    "# Build the confusion matrix\n",
    "from sklearn.metrics import confusion_matrix\n",
    "cm = confusion_matrix(Y_test, Y_predict)\n",
    "\n",
    "\n",
    "\n"
   ]
  }
 ],
 "metadata": {
  "kernelspec": {
   "display_name": "Python 3",
   "language": "python",
   "name": "python3"
  },
  "language_info": {
   "codemirror_mode": {
    "name": "ipython",
    "version": 3
   },
   "file_extension": ".py",
   "mimetype": "text/x-python",
   "name": "python",
   "nbconvert_exporter": "python",
   "pygments_lexer": "ipython3",
   "version": "3.8.5"
  }
 },
 "nbformat": 4,
 "nbformat_minor": 4
}
