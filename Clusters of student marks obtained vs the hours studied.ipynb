{
 "cells": [
  {
   "cell_type": "code",
   "execution_count": null,
   "metadata": {},
   "outputs": [],
   "source": [
    "# Import pandas for data processing\n",
    "import pandas as pd\n",
    "\n",
    "# Read the dataset\n",
    "dataset = pd.read_csv(\"studentclusters.csv\")\n",
    "X = dataset.copy()\n",
    "\n",
    "# Visualise the data using Scatter plot\n",
    "X.plot.scatter(x='marks', y='shours')\n",
    "\n",
    "# Fit and Transform the data for MinMax normalization (i.e. Normalize the data using standard or min-max)\n",
    "from sklearn.preprocessing import minmax_scale\n",
    "X_scaled = minmax_scale(X)\n",
    "\n",
    "\n",
    "# import KMeans for clustering\n",
    "from sklearn.cluster import KMeans\n",
    "kmeans = KMeans(n_clusters=5, random_state=1234)\n",
    "\n",
    "# Fit the input data. Create labels and get inertia\n",
    "kmeans.fit(X_scaled)\n",
    "inertia = kmeans.inertia_\n",
    "labels = kmeans.labels_\n",
    "\n",
    "# Visualise the clusters\n",
    "labels = pd.DataFrame(labels)\n",
    "df = pd.concat([X, labels], axis=1)\n",
    "df = df.rename(columns={0:'label'})\n",
    "\n",
    "df.plot.scatter(x='marks', y='shours', c='label', colormap='Set1')\n",
    "\n",
    "\n",
    "# Elbow method to determine optimum clusters\n",
    "inertia = []\n",
    "\n",
    "for i in range(2,16):\n",
    "    kmeans = KMeans(n_clusters=i)\n",
    "    kmeans.fit(X_scaled)\n",
    "    inertia.append(kmeans.inertia_)\n",
    "    \n",
    "import matplotlib.pyplot as plt\n",
    "\n",
    "plt.plot(range(2,16), inertia, marker='o')\n",
    "plt.title('Elbow Curve')\n",
    "plt.xlabel('Number of Clusters')\n",
    "plt.ylabel('Squared Sum (Inertia)')\n",
    "\n"
   ]
  }
 ],
 "metadata": {
  "kernelspec": {
   "display_name": "Python 3",
   "language": "python",
   "name": "python3"
  },
  "language_info": {
   "codemirror_mode": {
    "name": "ipython",
    "version": 3
   },
   "file_extension": ".py",
   "mimetype": "text/x-python",
   "name": "python",
   "nbconvert_exporter": "python",
   "pygments_lexer": "ipython3",
   "version": "3.8.3"
  }
 },
 "nbformat": 4,
 "nbformat_minor": 4
}
