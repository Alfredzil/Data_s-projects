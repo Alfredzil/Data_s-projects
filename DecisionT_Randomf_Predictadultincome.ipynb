{
 "cells": [
  {
   "cell_type": "code",
   "execution_count": 4,
   "metadata": {},
   "outputs": [
    {
     "data": {
      "text/plain": [
       "0.7710965133906014"
      ]
     },
     "execution_count": 4,
     "metadata": {},
     "output_type": "execute_result"
    }
   ],
   "source": [
    "# -----------------------------------------------------------------\n",
    "# Decision Tree Classifier\n",
    "# Predict the income of an adult based on the census data\n",
    "# -----------------------------------------------------------------\n",
    "\n",
    "# Import libraries\n",
    "import pandas as pd\n",
    "\n",
    "# Read dataset\n",
    "data = pd.read_csv('04 - decisiontreeAdultIncome.csv')\n",
    "\n",
    "# Check for Null values\n",
    "data.isnull().sum(axis=0)\n",
    "\n",
    "# Create Dummy variables\n",
    "data.dtypes\n",
    "data_prep = pd.get_dummies(data, drop_first=True)\n",
    "\n",
    "\n",
    "# Create X and Y Variables\n",
    "X = data_prep.iloc[:, :-1]# all columns except the last one\n",
    "Y = data_prep.iloc[:, -1]\n",
    "\n",
    "\n",
    "# Split the X and Y dataset into training and testing set\n",
    "from sklearn.model_selection import train_test_split\n",
    "X_train, X_test, Y_train, Y_test = \\\n",
    "train_test_split(X, Y, test_size = 0.3, random_state = 1234, stratify=Y)\n",
    "\n",
    "\n",
    "# Import and train classifier\n",
    "from sklearn.tree import DecisionTreeClassifier\n",
    "dtc = DecisionTreeClassifier(random_state=1234)# lets use default parameters for now except for the random_state\n",
    "dtc.fit(X_train, Y_train)\n",
    "\n",
    "\n",
    "# Test the model\n",
    "Y_predict = dtc.predict(X_test)\n",
    "\n",
    "# Evaluate the model\n",
    "from sklearn.metrics import confusion_matrix\n",
    "cm = confusion_matrix(Y_test, Y_predict)\n",
    "score = dtc.score(X_test, Y_test)\n",
    "score"
   ]
  },
  {
   "cell_type": "markdown",
   "metadata": {},
   "source": [
    "-------------------\n",
    "Random forest implementation\n",
    "------------------------------------"
   ]
  },
  {
   "cell_type": "code",
   "execution_count": 6,
   "metadata": {},
   "outputs": [
    {
     "data": {
      "text/plain": [
       "array([[3889,  484],\n",
       "       [ 708,  856]], dtype=int64)"
      ]
     },
     "execution_count": 6,
     "metadata": {},
     "output_type": "execute_result"
    }
   ],
   "source": [
    "# Import and train classifier\n",
    "from sklearn.tree import DecisionTreeClassifier\n",
    "dtc = DecisionTreeClassifier(random_state=1234)\n",
    "dtc.fit(X_train, Y_train)\n",
    "\n",
    "\n",
    "# Test the model\n",
    "Y_predict = dtc.predict(X_test)\n",
    "\n",
    "# Evaluate the model\n",
    "from sklearn.metrics import confusion_matrix\n",
    "cm1 = confusion_matrix(Y_test, Y_predict)\n",
    "score1 = dtc.score(X_test, Y_test)\n",
    "\n",
    "\n",
    "# Import and train Random Forest Classifier\n",
    "from sklearn.ensemble import RandomForestClassifier\n",
    "rfc = RandomForestClassifier(random_state=1234)\n",
    "rfc.fit(X_train, Y_train)\n",
    "\n",
    "\n",
    "# Test the RFC model\n",
    "Y_predict = rfc.predict(X_test)\n",
    "\n",
    "# Evaluate the RFC model\n",
    "cm2 = confusion_matrix(Y_test, Y_predict)\n",
    "score2 = rfc.score(X_test, Y_test)\n",
    "cm2"
   ]
  }
 ],
 "metadata": {
  "kernelspec": {
   "display_name": "Python 3",
   "language": "python",
   "name": "python3"
  },
  "language_info": {
   "codemirror_mode": {
    "name": "ipython",
    "version": 3
   },
   "file_extension": ".py",
   "mimetype": "text/x-python",
   "name": "python",
   "nbconvert_exporter": "python",
   "pygments_lexer": "ipython3",
   "version": "3.8.3"
  }
 },
 "nbformat": 4,
 "nbformat_minor": 4
}
