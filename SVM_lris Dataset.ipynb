{
 "cells": [
  {
   "cell_type": "markdown",
   "metadata": {},
   "source": [
    " Iris Plant Classification Using SVM and check the effects of different kernel functions\n",
    " NB There are 3 classes here"
   ]
  },
  {
   "cell_type": "code",
   "execution_count": 6,
   "metadata": {},
   "outputs": [
    {
     "data": {
      "text/plain": [
       "array([[15,  0,  0],\n",
       "       [ 0, 14,  1],\n",
       "       [ 0,  0, 15]], dtype=int64)"
      ]
     },
     "execution_count": 6,
     "metadata": {},
     "output_type": "execute_result"
    }
   ],
   "source": [
    "# import data\n",
    "from sklearn import datasets\n",
    "iris = datasets.load_iris()\n",
    "\n",
    "X = iris.data\n",
    "Y = iris.target\n",
    "\n",
    "# split the data into X and Y dataset into training and testing set\n",
    "from sklearn.model_selection import train_test_split\n",
    "X_train, X_test, Y_train, Y_test = \\\n",
    "train_test_split(X, Y, test_size = 0.3, random_state = 1234, stratify=Y) # always use parameter stratify for classif probs\n",
    "\n",
    "# train the SVC\n",
    "# Build the support vector Classifier\n",
    "\n",
    "from sklearn.svm import SVC # now lets create an instance of it as it is a class.\n",
    "\n",
    "# Build the confusion matrix and get the accuracy/score\n",
    "from sklearn.metrics import confusion_matrix\n",
    "#-------\n",
    "svc = SVC(kernel='rbf',gamma=1.0) # and to train it on our data we now need to invoke the fit method as\n",
    "#--------\n",
    "svc.fit(X_train, Y_train)\n",
    "\n",
    "# predicted y values\n",
    "Y_predict = svc.predict(X_test)\n",
    "\n",
    "cm_rbf01 = confusion_matrix(Y_test, Y_predict)\n",
    "cm_rbf01"
   ]
  },
  {
   "cell_type": "code",
   "execution_count": 8,
   "metadata": {},
   "outputs": [
    {
     "data": {
      "text/plain": [
       "array([[14,  0,  1],\n",
       "       [ 0, 13,  2],\n",
       "       [ 0,  0, 15]], dtype=int64)"
      ]
     },
     "execution_count": 8,
     "metadata": {},
     "output_type": "execute_result"
    }
   ],
   "source": [
    "# Lets try other kernel functions and also change the value of gamma\n",
    "# RBF kernel with gamma as 10\n",
    "svc = SVC(kernel='rbf',gamma=10.0)\n",
    "svc.fit(X_train, Y_train)\n",
    "Y_predict = svc.predict(X_test)\n",
    "cm_rbf10 = confusion_matrix(Y_test, Y_predict)\n",
    "cm_rbf10 # recall as you increase gamma some values get excluded as circle becomes smaller."
   ]
  },
  {
   "cell_type": "code",
   "execution_count": 12,
   "metadata": {},
   "outputs": [
    {
     "data": {
      "text/plain": [
       "array([[ 3,  0, 12],\n",
       "       [13,  0,  2],\n",
       "       [15,  0,  0]], dtype=int64)"
      ]
     },
     "execution_count": 12,
     "metadata": {},
     "output_type": "execute_result"
    }
   ],
   "source": [
    "# Linear Kernel\n",
    "svc = SVC(kernel= 'linear')\n",
    "svc.fit(X_train, Y_train)\n",
    "Y_predict = svc.predict(X_test)\n",
    "cm_linear = confusion_matrix(Y_test, Y_predict)\n",
    "cm_linear\n",
    "\n",
    "# Polynomial Kernel\n",
    "svc = SVC(kernel= 'poly')\n",
    "svc.fit(X_train, Y_train)\n",
    "Y_predict = svc.predict(X_test)\n",
    "cm_poly = confusion_matrix(Y_test, Y_predict)\n",
    "cm_poly\n",
    "\n",
    "# sigmoid Kernel\n",
    "svc = SVC(kernel= 'sigmoid')\n",
    "svc.fit(X_train, Y_train)\n",
    "Y_predict = svc.predict(X_test)\n",
    "cm_sig = confusion_matrix(Y_test, Y_predict)\n",
    "cm_sig"
   ]
  }
 ],
 "metadata": {
  "kernelspec": {
   "display_name": "Python 3",
   "language": "python",
   "name": "python3"
  },
  "language_info": {
   "codemirror_mode": {
    "name": "ipython",
    "version": 3
   },
   "file_extension": ".py",
   "mimetype": "text/x-python",
   "name": "python",
   "nbconvert_exporter": "python",
   "pygments_lexer": "ipython3",
   "version": "3.8.3"
  }
 },
 "nbformat": 4,
 "nbformat_minor": 4
}
